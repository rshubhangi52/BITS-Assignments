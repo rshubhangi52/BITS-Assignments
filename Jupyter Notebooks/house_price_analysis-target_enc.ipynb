{
 "cells": [
  {
   "cell_type": "code",
   "execution_count": 1,
   "metadata": {
    "_cell_guid": "b1076dfc-b9ad-4769-8c92-a6c4dae69d19",
    "_uuid": "8f2839f25d086af736a60e9eeb907d3b93b6e0e5"
   },
   "outputs": [],
   "source": [
    "import numpy as np \n",
    "import pandas as pd\n",
    "from sklearn import preprocessing\n",
    "from sklearn import model_selection\n",
    "import sklearn"
   ]
  },
  {
   "cell_type": "markdown",
   "metadata": {},
   "source": [
    "## Data Preprocessing!"
   ]
  },
  {
   "cell_type": "code",
   "execution_count": 2,
   "metadata": {
    "_cell_guid": "79c7e3d0-c299-4dcb-8224-4455121ee9b0",
    "_uuid": "d629ff2d2480ee46fbb7e2d37f6b5fab8052498a"
   },
   "outputs": [
    {
     "data": {
      "text/html": [
       "<div>\n",
       "<style scoped>\n",
       "    .dataframe tbody tr th:only-of-type {\n",
       "        vertical-align: middle;\n",
       "    }\n",
       "\n",
       "    .dataframe tbody tr th {\n",
       "        vertical-align: top;\n",
       "    }\n",
       "\n",
       "    .dataframe thead th {\n",
       "        text-align: right;\n",
       "    }\n",
       "</style>\n",
       "<table border=\"1\" class=\"dataframe\">\n",
       "  <thead>\n",
       "    <tr style=\"text-align: right;\">\n",
       "      <th></th>\n",
       "      <th>area_type</th>\n",
       "      <th>location</th>\n",
       "      <th>society</th>\n",
       "      <th>size</th>\n",
       "      <th>total_sqft</th>\n",
       "      <th>sqft</th>\n",
       "      <th>bath</th>\n",
       "      <th>balcony</th>\n",
       "      <th>possession date</th>\n",
       "      <th>price</th>\n",
       "    </tr>\n",
       "  </thead>\n",
       "  <tbody>\n",
       "    <tr>\n",
       "      <th>0</th>\n",
       "      <td>Super built-up  Area</td>\n",
       "      <td>Electronic City Phase II</td>\n",
       "      <td>Coomee</td>\n",
       "      <td>2 BHK</td>\n",
       "      <td>1056</td>\n",
       "      <td>1056.0</td>\n",
       "      <td>2.0</td>\n",
       "      <td>1.0</td>\n",
       "      <td>44192</td>\n",
       "      <td>39.07</td>\n",
       "    </tr>\n",
       "    <tr>\n",
       "      <th>1</th>\n",
       "      <td>Plot  Area</td>\n",
       "      <td>Chikka Tirupathi</td>\n",
       "      <td>Theanmp</td>\n",
       "      <td>4 Bedroom</td>\n",
       "      <td>2600</td>\n",
       "      <td>2600.0</td>\n",
       "      <td>5.0</td>\n",
       "      <td>3.0</td>\n",
       "      <td>Ready to move</td>\n",
       "      <td>120.00</td>\n",
       "    </tr>\n",
       "    <tr>\n",
       "      <th>2</th>\n",
       "      <td>Built-up  Area</td>\n",
       "      <td>Uttarahalli</td>\n",
       "      <td>NaN</td>\n",
       "      <td>3 BHK</td>\n",
       "      <td>1440</td>\n",
       "      <td>1440.0</td>\n",
       "      <td>2.0</td>\n",
       "      <td>3.0</td>\n",
       "      <td>Ready to move</td>\n",
       "      <td>62.00</td>\n",
       "    </tr>\n",
       "    <tr>\n",
       "      <th>3</th>\n",
       "      <td>Super built-up  Area</td>\n",
       "      <td>Lingadheeranahalli</td>\n",
       "      <td>Soiewre</td>\n",
       "      <td>3 BHK</td>\n",
       "      <td>1521</td>\n",
       "      <td>1521.0</td>\n",
       "      <td>3.0</td>\n",
       "      <td>1.0</td>\n",
       "      <td>Ready to move</td>\n",
       "      <td>95.00</td>\n",
       "    </tr>\n",
       "    <tr>\n",
       "      <th>4</th>\n",
       "      <td>Super built-up  Area</td>\n",
       "      <td>Kothanur</td>\n",
       "      <td>NaN</td>\n",
       "      <td>2 BHK</td>\n",
       "      <td>1200</td>\n",
       "      <td>1200.0</td>\n",
       "      <td>2.0</td>\n",
       "      <td>1.0</td>\n",
       "      <td>Ready to move</td>\n",
       "      <td>51.00</td>\n",
       "    </tr>\n",
       "  </tbody>\n",
       "</table>\n",
       "</div>"
      ],
      "text/plain": [
       "              area_type                  location  society       size  \\\n",
       "0  Super built-up  Area  Electronic City Phase II  Coomee       2 BHK   \n",
       "1            Plot  Area          Chikka Tirupathi  Theanmp  4 Bedroom   \n",
       "2        Built-up  Area               Uttarahalli      NaN      3 BHK   \n",
       "3  Super built-up  Area        Lingadheeranahalli  Soiewre      3 BHK   \n",
       "4  Super built-up  Area                  Kothanur      NaN      2 BHK   \n",
       "\n",
       "  total_sqft    sqft  bath  balcony possession date   price  \n",
       "0       1056  1056.0   2.0      1.0           44192   39.07  \n",
       "1       2600  2600.0   5.0      3.0   Ready to move  120.00  \n",
       "2       1440  1440.0   2.0      3.0   Ready to move   62.00  \n",
       "3       1521  1521.0   3.0      1.0   Ready to move   95.00  \n",
       "4       1200  1200.0   2.0      1.0   Ready to move   51.00  "
      ]
     },
     "execution_count": 2,
     "metadata": {},
     "output_type": "execute_result"
    }
   ],
   "source": [
    "home = pd.read_csv(\"house_price.csv\")\n",
    "home.head()"
   ]
  },
  {
   "cell_type": "code",
   "execution_count": 3,
   "metadata": {},
   "outputs": [],
   "source": [
    "## Dropping irrelevant columns\n",
    "home.drop(columns=['possession date','area_type', 'total_sqft'],inplace = True)"
   ]
  },
  {
   "cell_type": "code",
   "execution_count": 4,
   "metadata": {},
   "outputs": [
    {
     "data": {
      "text/plain": [
       "(13314, 7)"
      ]
     },
     "execution_count": 4,
     "metadata": {},
     "output_type": "execute_result"
    }
   ],
   "source": [
    "## Replacing null balcony/bath values with 0\n",
    "home['balcony'].fillna(0,inplace=True)\n",
    "home['bath'].fillna(0,inplace=True)\n",
    "home.shape"
   ]
  },
  {
   "cell_type": "code",
   "execution_count": 5,
   "metadata": {},
   "outputs": [
    {
     "data": {
      "text/plain": [
       "location     0.00\n",
       "society     41.29\n",
       "size         0.12\n",
       "sqft         0.00\n",
       "bath         0.00\n",
       "balcony      0.00\n",
       "price        0.00\n",
       "dtype: float64"
      ]
     },
     "execution_count": 5,
     "metadata": {},
     "output_type": "execute_result"
    }
   ],
   "source": [
    "## Checking null values in %\n",
    "round(100*(home.isnull().sum()/len(home.index)),2)"
   ]
  },
  {
   "cell_type": "code",
   "execution_count": 6,
   "metadata": {},
   "outputs": [
    {
     "data": {
      "text/plain": [
       "(7804, 7)"
      ]
     },
     "execution_count": 6,
     "metadata": {},
     "output_type": "execute_result"
    }
   ],
   "source": [
    "#removing NaN values from the dataset\n",
    "home.dropna(inplace =True)\n",
    "home.reset_index(drop= True, inplace =True)\n",
    "home.shape"
   ]
  },
  {
   "cell_type": "code",
   "execution_count": 7,
   "metadata": {},
   "outputs": [
    {
     "data": {
      "text/html": [
       "<div>\n",
       "<style scoped>\n",
       "    .dataframe tbody tr th:only-of-type {\n",
       "        vertical-align: middle;\n",
       "    }\n",
       "\n",
       "    .dataframe tbody tr th {\n",
       "        vertical-align: top;\n",
       "    }\n",
       "\n",
       "    .dataframe thead th {\n",
       "        text-align: right;\n",
       "    }\n",
       "</style>\n",
       "<table border=\"1\" class=\"dataframe\">\n",
       "  <thead>\n",
       "    <tr style=\"text-align: right;\">\n",
       "      <th></th>\n",
       "      <th>location</th>\n",
       "      <th>society</th>\n",
       "      <th>sqft</th>\n",
       "      <th>bath</th>\n",
       "      <th>balcony</th>\n",
       "      <th>price</th>\n",
       "      <th>bhk</th>\n",
       "    </tr>\n",
       "  </thead>\n",
       "  <tbody>\n",
       "    <tr>\n",
       "      <th>0</th>\n",
       "      <td>Electronic City Phase II</td>\n",
       "      <td>Coomee</td>\n",
       "      <td>1056.0</td>\n",
       "      <td>2.0</td>\n",
       "      <td>1.0</td>\n",
       "      <td>39.07</td>\n",
       "      <td>2</td>\n",
       "    </tr>\n",
       "    <tr>\n",
       "      <th>1</th>\n",
       "      <td>Chikka Tirupathi</td>\n",
       "      <td>Theanmp</td>\n",
       "      <td>2600.0</td>\n",
       "      <td>5.0</td>\n",
       "      <td>3.0</td>\n",
       "      <td>120.00</td>\n",
       "      <td>4</td>\n",
       "    </tr>\n",
       "    <tr>\n",
       "      <th>2</th>\n",
       "      <td>Lingadheeranahalli</td>\n",
       "      <td>Soiewre</td>\n",
       "      <td>1521.0</td>\n",
       "      <td>3.0</td>\n",
       "      <td>1.0</td>\n",
       "      <td>95.00</td>\n",
       "      <td>3</td>\n",
       "    </tr>\n",
       "    <tr>\n",
       "      <th>3</th>\n",
       "      <td>Whitefield</td>\n",
       "      <td>DuenaTa</td>\n",
       "      <td>1170.0</td>\n",
       "      <td>2.0</td>\n",
       "      <td>1.0</td>\n",
       "      <td>38.00</td>\n",
       "      <td>2</td>\n",
       "    </tr>\n",
       "    <tr>\n",
       "      <th>4</th>\n",
       "      <td>Old Airport Road</td>\n",
       "      <td>Jaades</td>\n",
       "      <td>2732.0</td>\n",
       "      <td>4.0</td>\n",
       "      <td>0.0</td>\n",
       "      <td>204.00</td>\n",
       "      <td>4</td>\n",
       "    </tr>\n",
       "  </tbody>\n",
       "</table>\n",
       "</div>"
      ],
      "text/plain": [
       "                   location  society    sqft  bath  balcony   price  bhk\n",
       "0  Electronic City Phase II  Coomee   1056.0   2.0      1.0   39.07    2\n",
       "1          Chikka Tirupathi  Theanmp  2600.0   5.0      3.0  120.00    4\n",
       "2        Lingadheeranahalli  Soiewre  1521.0   3.0      1.0   95.00    3\n",
       "3                Whitefield  DuenaTa  1170.0   2.0      1.0   38.00    2\n",
       "4          Old Airport Road  Jaades   2732.0   4.0      0.0  204.00    4"
      ]
     },
     "execution_count": 7,
     "metadata": {},
     "output_type": "execute_result"
    }
   ],
   "source": [
    "home['bhk'] = home['size'].str.split().str[0]\n",
    "home['bhk'].dropna(inplace = True)\n",
    "home['bhk'] = home['bhk'].astype('int')\n",
    "home.drop(columns=['size'],inplace = True)\n",
    "home.head()"
   ]
  },
  {
   "cell_type": "markdown",
   "metadata": {},
   "source": [
    "### Cleaning and feature engineering"
   ]
  },
  {
   "cell_type": "code",
   "execution_count": 8,
   "metadata": {},
   "outputs": [
    {
     "data": {
      "text/plain": [
       "(7799, 7)"
      ]
     },
     "execution_count": 8,
     "metadata": {},
     "output_type": "execute_result"
    }
   ],
   "source": [
    "##Cleaning: removing invalid data entry\n",
    "## e.g.: The total sqft divided by the number of bhk should always be more than 200\n",
    "\n",
    "home = home[~(home.sqft/home.bhk<200)]\n",
    "home.shape"
   ]
  },
  {
   "cell_type": "code",
   "execution_count": 9,
   "metadata": {},
   "outputs": [
    {
     "data": {
      "text/plain": [
       "(7784, 7)"
      ]
     },
     "execution_count": 9,
     "metadata": {},
     "output_type": "execute_result"
    }
   ],
   "source": [
    "home = home.drop(home[home['bath']>6].index)\n",
    "home = home.drop(home[home['bhk']>7.0].index)\n",
    "home.shape"
   ]
  },
  {
   "cell_type": "code",
   "execution_count": 10,
   "metadata": {},
   "outputs": [
    {
     "data": {
      "text/html": [
       "<div>\n",
       "<style scoped>\n",
       "    .dataframe tbody tr th:only-of-type {\n",
       "        vertical-align: middle;\n",
       "    }\n",
       "\n",
       "    .dataframe tbody tr th {\n",
       "        vertical-align: top;\n",
       "    }\n",
       "\n",
       "    .dataframe thead th {\n",
       "        text-align: right;\n",
       "    }\n",
       "</style>\n",
       "<table border=\"1\" class=\"dataframe\">\n",
       "  <thead>\n",
       "    <tr style=\"text-align: right;\">\n",
       "      <th></th>\n",
       "      <th>location</th>\n",
       "      <th>society</th>\n",
       "      <th>sqft</th>\n",
       "      <th>bath</th>\n",
       "      <th>balcony</th>\n",
       "      <th>price</th>\n",
       "      <th>bhk</th>\n",
       "      <th>price_per_sqft</th>\n",
       "    </tr>\n",
       "  </thead>\n",
       "  <tbody>\n",
       "    <tr>\n",
       "      <th>0</th>\n",
       "      <td>Electronic City Phase II</td>\n",
       "      <td>Coomee</td>\n",
       "      <td>1056.0</td>\n",
       "      <td>2.0</td>\n",
       "      <td>1.0</td>\n",
       "      <td>39.07</td>\n",
       "      <td>2</td>\n",
       "      <td>3699.810606</td>\n",
       "    </tr>\n",
       "    <tr>\n",
       "      <th>1</th>\n",
       "      <td>Chikka Tirupathi</td>\n",
       "      <td>Theanmp</td>\n",
       "      <td>2600.0</td>\n",
       "      <td>5.0</td>\n",
       "      <td>3.0</td>\n",
       "      <td>120.00</td>\n",
       "      <td>4</td>\n",
       "      <td>4615.384615</td>\n",
       "    </tr>\n",
       "    <tr>\n",
       "      <th>2</th>\n",
       "      <td>Lingadheeranahalli</td>\n",
       "      <td>Soiewre</td>\n",
       "      <td>1521.0</td>\n",
       "      <td>3.0</td>\n",
       "      <td>1.0</td>\n",
       "      <td>95.00</td>\n",
       "      <td>3</td>\n",
       "      <td>6245.890861</td>\n",
       "    </tr>\n",
       "    <tr>\n",
       "      <th>3</th>\n",
       "      <td>Whitefield</td>\n",
       "      <td>DuenaTa</td>\n",
       "      <td>1170.0</td>\n",
       "      <td>2.0</td>\n",
       "      <td>1.0</td>\n",
       "      <td>38.00</td>\n",
       "      <td>2</td>\n",
       "      <td>3247.863248</td>\n",
       "    </tr>\n",
       "    <tr>\n",
       "      <th>4</th>\n",
       "      <td>Old Airport Road</td>\n",
       "      <td>Jaades</td>\n",
       "      <td>2732.0</td>\n",
       "      <td>4.0</td>\n",
       "      <td>0.0</td>\n",
       "      <td>204.00</td>\n",
       "      <td>4</td>\n",
       "      <td>7467.057101</td>\n",
       "    </tr>\n",
       "  </tbody>\n",
       "</table>\n",
       "</div>"
      ],
      "text/plain": [
       "                   location  society    sqft  bath  balcony   price  bhk  \\\n",
       "0  Electronic City Phase II  Coomee   1056.0   2.0      1.0   39.07    2   \n",
       "1          Chikka Tirupathi  Theanmp  2600.0   5.0      3.0  120.00    4   \n",
       "2        Lingadheeranahalli  Soiewre  1521.0   3.0      1.0   95.00    3   \n",
       "3                Whitefield  DuenaTa  1170.0   2.0      1.0   38.00    2   \n",
       "4          Old Airport Road  Jaades   2732.0   4.0      0.0  204.00    4   \n",
       "\n",
       "   price_per_sqft  \n",
       "0     3699.810606  \n",
       "1     4615.384615  \n",
       "2     6245.890861  \n",
       "3     3247.863248  \n",
       "4     7467.057101  "
      ]
     },
     "execution_count": 10,
     "metadata": {},
     "output_type": "execute_result"
    }
   ],
   "source": [
    "## Feature Engineering step\n",
    "home['price_per_sqft'] = home['price']*100000/home['sqft']\n",
    "home.head()"
   ]
  },
  {
   "cell_type": "code",
   "execution_count": 11,
   "metadata": {},
   "outputs": [
    {
     "data": {
      "text/plain": [
       "count     7784.000000\n",
       "mean      5906.663356\n",
       "std       2751.433547\n",
       "min         33.210897\n",
       "25%       4299.092126\n",
       "50%       5362.739697\n",
       "75%       6750.000000\n",
       "max      76530.612245\n",
       "Name: price_per_sqft, dtype: float64"
      ]
     },
     "execution_count": 11,
     "metadata": {},
     "output_type": "execute_result"
    }
   ],
   "source": [
    "home['price_per_sqft'].describe()"
   ]
  },
  {
   "cell_type": "code",
   "execution_count": 12,
   "metadata": {},
   "outputs": [
    {
     "data": {
      "text/plain": [
       "(5601, 8)"
      ]
     },
     "execution_count": 12,
     "metadata": {},
     "output_type": "execute_result"
    }
   ],
   "source": [
    "## taking only the values with 1st Standard deviation values.\n",
    "## as per Normal Distribution, 95% of our data lies within 1st Standard Deviation as per the location\n",
    "\n",
    "def remove_pps_outliers(df):\n",
    "    df_out = pd.DataFrame()\n",
    "    for key, subdf in df.groupby('location'):\n",
    "        m = np.mean(subdf.price_per_sqft)\n",
    "        st = np.std(subdf.price_per_sqft)\n",
    "        reduced_df = subdf[(subdf.price_per_sqft>(m-st)) & (subdf.price_per_sqft<=(m+st))]\n",
    "        df_out = pd.concat([df_out,reduced_df],ignore_index=True)\n",
    "    return df_out\n",
    "home = remove_pps_outliers(home)\n",
    "home.shape"
   ]
  },
  {
   "cell_type": "code",
   "execution_count": 13,
   "metadata": {},
   "outputs": [
    {
     "data": {
      "text/plain": [
       "location\n",
       "Whitefield                 376\n",
       "Sarjapur  Road             252\n",
       "Electronic City            225\n",
       "Kanakpura Road             165\n",
       "Yelahanka                  144\n",
       "                          ... \n",
       "Sathya Layout                1\n",
       "Muthurayya Swamy Layout      1\n",
       "Mylasandra                   1\n",
       "Dommasandra                  1\n",
       "Chikka Banaswadi             1\n",
       "Name: count, Length: 439, dtype: int64"
      ]
     },
     "execution_count": 13,
     "metadata": {},
     "output_type": "execute_result"
    }
   ],
   "source": [
    "## checking the dataset with highest location data provided\n",
    "## Removing the locations with less than frequency 10\n",
    "\n",
    "home.location = home.location.str.strip()\n",
    "location_stats = home['location'].value_counts(ascending=False)\n",
    "location_stats"
   ]
  },
  {
   "cell_type": "code",
   "execution_count": 14,
   "metadata": {},
   "outputs": [
    {
     "data": {
      "text/plain": [
       "location\n",
       "Dodda Nekkundi             10\n",
       "Neeladri Nagar             10\n",
       "Nagarbhavi                 10\n",
       "Seegehalli                 10\n",
       "Domlur                     10\n",
       "                           ..\n",
       "Sathya Layout               1\n",
       "Muthurayya Swamy Layout     1\n",
       "Mylasandra                  1\n",
       "Dommasandra                 1\n",
       "Chikka Banaswadi            1\n",
       "Name: count, Length: 325, dtype: int64"
      ]
     },
     "execution_count": 14,
     "metadata": {},
     "output_type": "execute_result"
    }
   ],
   "source": [
    "## cretaing a Series of all the location having less than 10 entries against its  \n",
    "location_stats_less_than_10 = location_stats[location_stats<=10]\n",
    "location_stats_less_than_10"
   ]
  },
  {
   "cell_type": "code",
   "execution_count": 15,
   "metadata": {},
   "outputs": [],
   "source": [
    "## using lambda function to naming 'location_stats_less_than_10' as 'other' and then removing it\n",
    "\n",
    "home.location = home.location.apply(lambda x: 'other' if x in location_stats_less_than_10 else x)\n",
    "home = home[home.location != 'other']"
   ]
  },
  {
   "cell_type": "code",
   "execution_count": 16,
   "metadata": {},
   "outputs": [
    {
     "data": {
      "text/plain": [
       "(4543, 10)"
      ]
     },
     "execution_count": 16,
     "metadata": {},
     "output_type": "execute_result"
    }
   ],
   "source": [
    "## performing One hot encoding on the Categorical values\n",
    "## 1st step. create dummies\n",
    "#dummies = pd.get_dummies(home.location)\n",
    "#dummies.head(3)\n",
    "\n",
    "\n",
    "import category_encoders as ce\n",
    "\n",
    "# Assuming your DataFrame is called 'df'\n",
    "encoder = ce.TargetEncoder()\n",
    "home['location_encoded'] = encoder.fit_transform(home['location'], home['price'])\n",
    "home['society_encoded'] = encoder.fit_transform(home['society'], home['price'])\n",
    "home.shape"
   ]
  },
  {
   "cell_type": "code",
   "execution_count": 17,
   "metadata": {},
   "outputs": [
    {
     "data": {
      "text/html": [
       "<div>\n",
       "<style scoped>\n",
       "    .dataframe tbody tr th:only-of-type {\n",
       "        vertical-align: middle;\n",
       "    }\n",
       "\n",
       "    .dataframe tbody tr th {\n",
       "        vertical-align: top;\n",
       "    }\n",
       "\n",
       "    .dataframe thead th {\n",
       "        text-align: right;\n",
       "    }\n",
       "</style>\n",
       "<table border=\"1\" class=\"dataframe\">\n",
       "  <thead>\n",
       "    <tr style=\"text-align: right;\">\n",
       "      <th></th>\n",
       "      <th>sqft</th>\n",
       "      <th>bath</th>\n",
       "      <th>balcony</th>\n",
       "      <th>price</th>\n",
       "      <th>bhk</th>\n",
       "      <th>location_encoded</th>\n",
       "      <th>society_encoded</th>\n",
       "    </tr>\n",
       "  </thead>\n",
       "  <tbody>\n",
       "    <tr>\n",
       "      <th>8</th>\n",
       "      <td>550.0</td>\n",
       "      <td>1.0</td>\n",
       "      <td>1.0</td>\n",
       "      <td>27.00</td>\n",
       "      <td>1</td>\n",
       "      <td>54.733378</td>\n",
       "      <td>56.185750</td>\n",
       "    </tr>\n",
       "    <tr>\n",
       "      <th>9</th>\n",
       "      <td>440.0</td>\n",
       "      <td>1.0</td>\n",
       "      <td>0.0</td>\n",
       "      <td>28.00</td>\n",
       "      <td>1</td>\n",
       "      <td>77.687596</td>\n",
       "      <td>76.289823</td>\n",
       "    </tr>\n",
       "    <tr>\n",
       "      <th>10</th>\n",
       "      <td>510.0</td>\n",
       "      <td>1.0</td>\n",
       "      <td>0.0</td>\n",
       "      <td>25.25</td>\n",
       "      <td>1</td>\n",
       "      <td>84.409379</td>\n",
       "      <td>72.440030</td>\n",
       "    </tr>\n",
       "    <tr>\n",
       "      <th>11</th>\n",
       "      <td>510.0</td>\n",
       "      <td>1.0</td>\n",
       "      <td>1.0</td>\n",
       "      <td>25.25</td>\n",
       "      <td>1</td>\n",
       "      <td>84.409379</td>\n",
       "      <td>72.440030</td>\n",
       "    </tr>\n",
       "    <tr>\n",
       "      <th>47</th>\n",
       "      <td>1080.0</td>\n",
       "      <td>2.0</td>\n",
       "      <td>2.0</td>\n",
       "      <td>72.00</td>\n",
       "      <td>2</td>\n",
       "      <td>94.864274</td>\n",
       "      <td>83.716217</td>\n",
       "    </tr>\n",
       "    <tr>\n",
       "      <th>...</th>\n",
       "      <td>...</td>\n",
       "      <td>...</td>\n",
       "      <td>...</td>\n",
       "      <td>...</td>\n",
       "      <td>...</td>\n",
       "      <td>...</td>\n",
       "      <td>...</td>\n",
       "    </tr>\n",
       "    <tr>\n",
       "      <th>5596</th>\n",
       "      <td>1160.0</td>\n",
       "      <td>2.0</td>\n",
       "      <td>2.0</td>\n",
       "      <td>64.08</td>\n",
       "      <td>2</td>\n",
       "      <td>82.359664</td>\n",
       "      <td>80.316307</td>\n",
       "    </tr>\n",
       "    <tr>\n",
       "      <th>5597</th>\n",
       "      <td>1676.0</td>\n",
       "      <td>3.0</td>\n",
       "      <td>0.0</td>\n",
       "      <td>92.13</td>\n",
       "      <td>3</td>\n",
       "      <td>82.359664</td>\n",
       "      <td>80.316307</td>\n",
       "    </tr>\n",
       "    <tr>\n",
       "      <th>5598</th>\n",
       "      <td>2503.0</td>\n",
       "      <td>3.0</td>\n",
       "      <td>3.0</td>\n",
       "      <td>138.00</td>\n",
       "      <td>3</td>\n",
       "      <td>82.359664</td>\n",
       "      <td>80.316307</td>\n",
       "    </tr>\n",
       "    <tr>\n",
       "      <th>5599</th>\n",
       "      <td>1855.0</td>\n",
       "      <td>3.0</td>\n",
       "      <td>3.0</td>\n",
       "      <td>135.00</td>\n",
       "      <td>3</td>\n",
       "      <td>82.359664</td>\n",
       "      <td>89.930471</td>\n",
       "    </tr>\n",
       "    <tr>\n",
       "      <th>5600</th>\n",
       "      <td>1675.0</td>\n",
       "      <td>3.0</td>\n",
       "      <td>0.0</td>\n",
       "      <td>92.13</td>\n",
       "      <td>3</td>\n",
       "      <td>82.359664</td>\n",
       "      <td>80.316307</td>\n",
       "    </tr>\n",
       "  </tbody>\n",
       "</table>\n",
       "<p>4543 rows × 7 columns</p>\n",
       "</div>"
      ],
      "text/plain": [
       "        sqft  bath  balcony   price  bhk  location_encoded  society_encoded\n",
       "8      550.0   1.0      1.0   27.00    1         54.733378        56.185750\n",
       "9      440.0   1.0      0.0   28.00    1         77.687596        76.289823\n",
       "10     510.0   1.0      0.0   25.25    1         84.409379        72.440030\n",
       "11     510.0   1.0      1.0   25.25    1         84.409379        72.440030\n",
       "47    1080.0   2.0      2.0   72.00    2         94.864274        83.716217\n",
       "...      ...   ...      ...     ...  ...               ...              ...\n",
       "5596  1160.0   2.0      2.0   64.08    2         82.359664        80.316307\n",
       "5597  1676.0   3.0      0.0   92.13    3         82.359664        80.316307\n",
       "5598  2503.0   3.0      3.0  138.00    3         82.359664        80.316307\n",
       "5599  1855.0   3.0      3.0  135.00    3         82.359664        89.930471\n",
       "5600  1675.0   3.0      0.0   92.13    3         82.359664        80.316307\n",
       "\n",
       "[4543 rows x 7 columns]"
      ]
     },
     "execution_count": 17,
     "metadata": {},
     "output_type": "execute_result"
    }
   ],
   "source": [
    "## adding the dummies dataframe to our main DataFrame\n",
    "#one-hot\n",
    "#home = pd.concat([home,dummies],axis='columns')\n",
    "\n",
    "## removing 'location' as we have already created the dummies\n",
    "home1 = home.drop(columns=['location','society', 'price_per_sqft'],axis = 1)\n",
    "home1"
   ]
  },
  {
   "cell_type": "code",
   "execution_count": 18,
   "metadata": {},
   "outputs": [
    {
     "data": {
      "text/plain": [
       "(4543, 7)"
      ]
     },
     "execution_count": 18,
     "metadata": {},
     "output_type": "execute_result"
    }
   ],
   "source": [
    "home1.reset_index(drop = True)\n",
    "home1.shape"
   ]
  },
  {
   "cell_type": "code",
   "execution_count": null,
   "metadata": {},
   "outputs": [],
   "source": [
    "#home1.to_csv('house_price_cleaned-target_enc.csv', index=False)"
   ]
  },
  {
   "cell_type": "code",
   "execution_count": 19,
   "metadata": {},
   "outputs": [
    {
     "data": {
      "text/html": [
       "<div>\n",
       "<style scoped>\n",
       "    .dataframe tbody tr th:only-of-type {\n",
       "        vertical-align: middle;\n",
       "    }\n",
       "\n",
       "    .dataframe tbody tr th {\n",
       "        vertical-align: top;\n",
       "    }\n",
       "\n",
       "    .dataframe thead th {\n",
       "        text-align: right;\n",
       "    }\n",
       "</style>\n",
       "<table border=\"1\" class=\"dataframe\">\n",
       "  <thead>\n",
       "    <tr style=\"text-align: right;\">\n",
       "      <th></th>\n",
       "      <th>sqft</th>\n",
       "      <th>bath</th>\n",
       "      <th>balcony</th>\n",
       "      <th>price</th>\n",
       "      <th>bhk</th>\n",
       "      <th>location_encoded</th>\n",
       "      <th>society_encoded</th>\n",
       "    </tr>\n",
       "  </thead>\n",
       "  <tbody>\n",
       "    <tr>\n",
       "      <th>sqft</th>\n",
       "      <td>1.000000</td>\n",
       "      <td>0.059070</td>\n",
       "      <td>0.000216</td>\n",
       "      <td>0.090821</td>\n",
       "      <td>0.061984</td>\n",
       "      <td>0.037900</td>\n",
       "      <td>0.055803</td>\n",
       "    </tr>\n",
       "    <tr>\n",
       "      <th>bath</th>\n",
       "      <td>0.059070</td>\n",
       "      <td>1.000000</td>\n",
       "      <td>0.255776</td>\n",
       "      <td>0.665457</td>\n",
       "      <td>0.744912</td>\n",
       "      <td>0.365573</td>\n",
       "      <td>0.483787</td>\n",
       "    </tr>\n",
       "    <tr>\n",
       "      <th>balcony</th>\n",
       "      <td>0.000216</td>\n",
       "      <td>0.255776</td>\n",
       "      <td>1.000000</td>\n",
       "      <td>0.122088</td>\n",
       "      <td>0.229081</td>\n",
       "      <td>0.082075</td>\n",
       "      <td>0.123200</td>\n",
       "    </tr>\n",
       "    <tr>\n",
       "      <th>price</th>\n",
       "      <td>0.090821</td>\n",
       "      <td>0.665457</td>\n",
       "      <td>0.122088</td>\n",
       "      <td>1.000000</td>\n",
       "      <td>0.644258</td>\n",
       "      <td>0.670449</td>\n",
       "      <td>0.764194</td>\n",
       "    </tr>\n",
       "    <tr>\n",
       "      <th>bhk</th>\n",
       "      <td>0.061984</td>\n",
       "      <td>0.744912</td>\n",
       "      <td>0.229081</td>\n",
       "      <td>0.644258</td>\n",
       "      <td>1.000000</td>\n",
       "      <td>0.282122</td>\n",
       "      <td>0.391238</td>\n",
       "    </tr>\n",
       "    <tr>\n",
       "      <th>location_encoded</th>\n",
       "      <td>0.037900</td>\n",
       "      <td>0.365573</td>\n",
       "      <td>0.082075</td>\n",
       "      <td>0.670449</td>\n",
       "      <td>0.282122</td>\n",
       "      <td>1.000000</td>\n",
       "      <td>0.776591</td>\n",
       "    </tr>\n",
       "    <tr>\n",
       "      <th>society_encoded</th>\n",
       "      <td>0.055803</td>\n",
       "      <td>0.483787</td>\n",
       "      <td>0.123200</td>\n",
       "      <td>0.764194</td>\n",
       "      <td>0.391238</td>\n",
       "      <td>0.776591</td>\n",
       "      <td>1.000000</td>\n",
       "    </tr>\n",
       "  </tbody>\n",
       "</table>\n",
       "</div>"
      ],
      "text/plain": [
       "                      sqft      bath   balcony     price       bhk  \\\n",
       "sqft              1.000000  0.059070  0.000216  0.090821  0.061984   \n",
       "bath              0.059070  1.000000  0.255776  0.665457  0.744912   \n",
       "balcony           0.000216  0.255776  1.000000  0.122088  0.229081   \n",
       "price             0.090821  0.665457  0.122088  1.000000  0.644258   \n",
       "bhk               0.061984  0.744912  0.229081  0.644258  1.000000   \n",
       "location_encoded  0.037900  0.365573  0.082075  0.670449  0.282122   \n",
       "society_encoded   0.055803  0.483787  0.123200  0.764194  0.391238   \n",
       "\n",
       "                  location_encoded  society_encoded  \n",
       "sqft                      0.037900         0.055803  \n",
       "bath                      0.365573         0.483787  \n",
       "balcony                   0.082075         0.123200  \n",
       "price                     0.670449         0.764194  \n",
       "bhk                       0.282122         0.391238  \n",
       "location_encoded          1.000000         0.776591  \n",
       "society_encoded           0.776591         1.000000  "
      ]
     },
     "execution_count": 19,
     "metadata": {},
     "output_type": "execute_result"
    }
   ],
   "source": [
    "## finding correlation values within the dataset\n",
    "\n",
    "corr = home1.corr()\n",
    "corr"
   ]
  },
  {
   "cell_type": "markdown",
   "metadata": {},
   "source": [
    "### Machine Learning part"
   ]
  },
  {
   "cell_type": "code",
   "execution_count": 20,
   "metadata": {},
   "outputs": [
    {
     "data": {
      "text/html": [
       "<div>\n",
       "<style scoped>\n",
       "    .dataframe tbody tr th:only-of-type {\n",
       "        vertical-align: middle;\n",
       "    }\n",
       "\n",
       "    .dataframe tbody tr th {\n",
       "        vertical-align: top;\n",
       "    }\n",
       "\n",
       "    .dataframe thead th {\n",
       "        text-align: right;\n",
       "    }\n",
       "</style>\n",
       "<table border=\"1\" class=\"dataframe\">\n",
       "  <thead>\n",
       "    <tr style=\"text-align: right;\">\n",
       "      <th></th>\n",
       "      <th>bhk</th>\n",
       "      <th>sqft</th>\n",
       "      <th>bath</th>\n",
       "      <th>balcony</th>\n",
       "      <th>location_encoded</th>\n",
       "      <th>society_encoded</th>\n",
       "    </tr>\n",
       "  </thead>\n",
       "  <tbody>\n",
       "    <tr>\n",
       "      <th>8</th>\n",
       "      <td>1</td>\n",
       "      <td>550.0</td>\n",
       "      <td>1.0</td>\n",
       "      <td>1.0</td>\n",
       "      <td>54.733378</td>\n",
       "      <td>56.185750</td>\n",
       "    </tr>\n",
       "    <tr>\n",
       "      <th>9</th>\n",
       "      <td>1</td>\n",
       "      <td>440.0</td>\n",
       "      <td>1.0</td>\n",
       "      <td>0.0</td>\n",
       "      <td>77.687596</td>\n",
       "      <td>76.289823</td>\n",
       "    </tr>\n",
       "    <tr>\n",
       "      <th>10</th>\n",
       "      <td>1</td>\n",
       "      <td>510.0</td>\n",
       "      <td>1.0</td>\n",
       "      <td>0.0</td>\n",
       "      <td>84.409379</td>\n",
       "      <td>72.440030</td>\n",
       "    </tr>\n",
       "    <tr>\n",
       "      <th>11</th>\n",
       "      <td>1</td>\n",
       "      <td>510.0</td>\n",
       "      <td>1.0</td>\n",
       "      <td>1.0</td>\n",
       "      <td>84.409379</td>\n",
       "      <td>72.440030</td>\n",
       "    </tr>\n",
       "    <tr>\n",
       "      <th>47</th>\n",
       "      <td>2</td>\n",
       "      <td>1080.0</td>\n",
       "      <td>2.0</td>\n",
       "      <td>2.0</td>\n",
       "      <td>94.864274</td>\n",
       "      <td>83.716217</td>\n",
       "    </tr>\n",
       "  </tbody>\n",
       "</table>\n",
       "</div>"
      ],
      "text/plain": [
       "    bhk    sqft  bath  balcony  location_encoded  society_encoded\n",
       "8     1   550.0   1.0      1.0         54.733378        56.185750\n",
       "9     1   440.0   1.0      0.0         77.687596        76.289823\n",
       "10    1   510.0   1.0      0.0         84.409379        72.440030\n",
       "11    1   510.0   1.0      1.0         84.409379        72.440030\n",
       "47    2  1080.0   2.0      2.0         94.864274        83.716217"
      ]
     },
     "execution_count": 20,
     "metadata": {},
     "output_type": "execute_result"
    }
   ],
   "source": [
    "X = home1[['bhk', 'sqft', 'bath', 'balcony', 'location_encoded', 'society_encoded']]\n",
    "X.head()"
   ]
  },
  {
   "cell_type": "code",
   "execution_count": 21,
   "metadata": {},
   "outputs": [
    {
     "data": {
      "text/plain": [
       "8     27.00\n",
       "9     28.00\n",
       "10    25.25\n",
       "11    25.25\n",
       "47    72.00\n",
       "Name: price, dtype: float64"
      ]
     },
     "execution_count": 21,
     "metadata": {},
     "output_type": "execute_result"
    }
   ],
   "source": [
    "y = home1['price']\n",
    "y.head()"
   ]
  },
  {
   "cell_type": "code",
   "execution_count": 22,
   "metadata": {},
   "outputs": [
    {
     "data": {
      "text/html": [
       "<div>\n",
       "<style scoped>\n",
       "    .dataframe tbody tr th:only-of-type {\n",
       "        vertical-align: middle;\n",
       "    }\n",
       "\n",
       "    .dataframe tbody tr th {\n",
       "        vertical-align: top;\n",
       "    }\n",
       "\n",
       "    .dataframe thead th {\n",
       "        text-align: right;\n",
       "    }\n",
       "</style>\n",
       "<table border=\"1\" class=\"dataframe\">\n",
       "  <thead>\n",
       "    <tr style=\"text-align: right;\">\n",
       "      <th></th>\n",
       "      <th>sqft</th>\n",
       "      <th>bath</th>\n",
       "      <th>balcony</th>\n",
       "      <th>price</th>\n",
       "      <th>bhk</th>\n",
       "      <th>location_encoded</th>\n",
       "      <th>society_encoded</th>\n",
       "    </tr>\n",
       "  </thead>\n",
       "  <tbody>\n",
       "    <tr>\n",
       "      <th>sqft</th>\n",
       "      <td>1.000000</td>\n",
       "      <td>0.059070</td>\n",
       "      <td>0.000216</td>\n",
       "      <td>0.090821</td>\n",
       "      <td>0.061984</td>\n",
       "      <td>0.037900</td>\n",
       "      <td>0.055803</td>\n",
       "    </tr>\n",
       "    <tr>\n",
       "      <th>bath</th>\n",
       "      <td>0.059070</td>\n",
       "      <td>1.000000</td>\n",
       "      <td>0.255776</td>\n",
       "      <td>0.665457</td>\n",
       "      <td>0.744912</td>\n",
       "      <td>0.365573</td>\n",
       "      <td>0.483787</td>\n",
       "    </tr>\n",
       "    <tr>\n",
       "      <th>balcony</th>\n",
       "      <td>0.000216</td>\n",
       "      <td>0.255776</td>\n",
       "      <td>1.000000</td>\n",
       "      <td>0.122088</td>\n",
       "      <td>0.229081</td>\n",
       "      <td>0.082075</td>\n",
       "      <td>0.123200</td>\n",
       "    </tr>\n",
       "    <tr>\n",
       "      <th>price</th>\n",
       "      <td>0.090821</td>\n",
       "      <td>0.665457</td>\n",
       "      <td>0.122088</td>\n",
       "      <td>1.000000</td>\n",
       "      <td>0.644258</td>\n",
       "      <td>0.670449</td>\n",
       "      <td>0.764194</td>\n",
       "    </tr>\n",
       "    <tr>\n",
       "      <th>bhk</th>\n",
       "      <td>0.061984</td>\n",
       "      <td>0.744912</td>\n",
       "      <td>0.229081</td>\n",
       "      <td>0.644258</td>\n",
       "      <td>1.000000</td>\n",
       "      <td>0.282122</td>\n",
       "      <td>0.391238</td>\n",
       "    </tr>\n",
       "    <tr>\n",
       "      <th>location_encoded</th>\n",
       "      <td>0.037900</td>\n",
       "      <td>0.365573</td>\n",
       "      <td>0.082075</td>\n",
       "      <td>0.670449</td>\n",
       "      <td>0.282122</td>\n",
       "      <td>1.000000</td>\n",
       "      <td>0.776591</td>\n",
       "    </tr>\n",
       "    <tr>\n",
       "      <th>society_encoded</th>\n",
       "      <td>0.055803</td>\n",
       "      <td>0.483787</td>\n",
       "      <td>0.123200</td>\n",
       "      <td>0.764194</td>\n",
       "      <td>0.391238</td>\n",
       "      <td>0.776591</td>\n",
       "      <td>1.000000</td>\n",
       "    </tr>\n",
       "  </tbody>\n",
       "</table>\n",
       "</div>"
      ],
      "text/plain": [
       "                      sqft      bath   balcony     price       bhk  \\\n",
       "sqft              1.000000  0.059070  0.000216  0.090821  0.061984   \n",
       "bath              0.059070  1.000000  0.255776  0.665457  0.744912   \n",
       "balcony           0.000216  0.255776  1.000000  0.122088  0.229081   \n",
       "price             0.090821  0.665457  0.122088  1.000000  0.644258   \n",
       "bhk               0.061984  0.744912  0.229081  0.644258  1.000000   \n",
       "location_encoded  0.037900  0.365573  0.082075  0.670449  0.282122   \n",
       "society_encoded   0.055803  0.483787  0.123200  0.764194  0.391238   \n",
       "\n",
       "                  location_encoded  society_encoded  \n",
       "sqft                      0.037900         0.055803  \n",
       "bath                      0.365573         0.483787  \n",
       "balcony                   0.082075         0.123200  \n",
       "price                     0.670449         0.764194  \n",
       "bhk                       0.282122         0.391238  \n",
       "location_encoded          1.000000         0.776591  \n",
       "society_encoded           0.776591         1.000000  "
      ]
     },
     "execution_count": 22,
     "metadata": {},
     "output_type": "execute_result"
    }
   ],
   "source": [
    "home1.corr()"
   ]
  },
  {
   "cell_type": "code",
   "execution_count": 23,
   "metadata": {},
   "outputs": [],
   "source": [
    "from sklearn.model_selection import train_test_split\n",
    "X_train, X_test, y_train, y_test = train_test_split(X, y, test_size=0.2, random_state=0)"
   ]
  },
  {
   "cell_type": "code",
   "execution_count": 24,
   "metadata": {},
   "outputs": [
    {
     "data": {
      "text/html": [
       "<div>\n",
       "<style scoped>\n",
       "    .dataframe tbody tr th:only-of-type {\n",
       "        vertical-align: middle;\n",
       "    }\n",
       "\n",
       "    .dataframe tbody tr th {\n",
       "        vertical-align: top;\n",
       "    }\n",
       "\n",
       "    .dataframe thead th {\n",
       "        text-align: right;\n",
       "    }\n",
       "</style>\n",
       "<table border=\"1\" class=\"dataframe\">\n",
       "  <thead>\n",
       "    <tr style=\"text-align: right;\">\n",
       "      <th></th>\n",
       "      <th>bhk</th>\n",
       "      <th>sqft</th>\n",
       "      <th>bath</th>\n",
       "      <th>balcony</th>\n",
       "      <th>location_encoded</th>\n",
       "      <th>society_encoded</th>\n",
       "      <th>price</th>\n",
       "      <th>prediction</th>\n",
       "    </tr>\n",
       "  </thead>\n",
       "  <tbody>\n",
       "    <tr>\n",
       "      <th>2952</th>\n",
       "      <td>1</td>\n",
       "      <td>670.0</td>\n",
       "      <td>1.0</td>\n",
       "      <td>1.0</td>\n",
       "      <td>61.484830</td>\n",
       "      <td>76.357867</td>\n",
       "      <td>35.00</td>\n",
       "      <td>14.778560</td>\n",
       "    </tr>\n",
       "    <tr>\n",
       "      <th>3998</th>\n",
       "      <td>2</td>\n",
       "      <td>1253.0</td>\n",
       "      <td>2.0</td>\n",
       "      <td>1.0</td>\n",
       "      <td>83.509424</td>\n",
       "      <td>65.724454</td>\n",
       "      <td>52.66</td>\n",
       "      <td>50.216677</td>\n",
       "    </tr>\n",
       "    <tr>\n",
       "      <th>2531</th>\n",
       "      <td>3</td>\n",
       "      <td>1520.0</td>\n",
       "      <td>3.0</td>\n",
       "      <td>2.0</td>\n",
       "      <td>109.658833</td>\n",
       "      <td>90.529034</td>\n",
       "      <td>125.00</td>\n",
       "      <td>120.555025</td>\n",
       "    </tr>\n",
       "    <tr>\n",
       "      <th>3473</th>\n",
       "      <td>3</td>\n",
       "      <td>1937.0</td>\n",
       "      <td>3.0</td>\n",
       "      <td>2.0</td>\n",
       "      <td>111.255191</td>\n",
       "      <td>95.221474</td>\n",
       "      <td>140.00</td>\n",
       "      <td>126.352196</td>\n",
       "    </tr>\n",
       "    <tr>\n",
       "      <th>2590</th>\n",
       "      <td>2</td>\n",
       "      <td>1400.0</td>\n",
       "      <td>1.0</td>\n",
       "      <td>1.0</td>\n",
       "      <td>91.239983</td>\n",
       "      <td>88.327161</td>\n",
       "      <td>80.00</td>\n",
       "      <td>64.551928</td>\n",
       "    </tr>\n",
       "  </tbody>\n",
       "</table>\n",
       "</div>"
      ],
      "text/plain": [
       "      bhk    sqft  bath  balcony  location_encoded  society_encoded   price  \\\n",
       "2952    1   670.0   1.0      1.0         61.484830        76.357867   35.00   \n",
       "3998    2  1253.0   2.0      1.0         83.509424        65.724454   52.66   \n",
       "2531    3  1520.0   3.0      2.0        109.658833        90.529034  125.00   \n",
       "3473    3  1937.0   3.0      2.0        111.255191        95.221474  140.00   \n",
       "2590    2  1400.0   1.0      1.0         91.239983        88.327161   80.00   \n",
       "\n",
       "      prediction  \n",
       "2952   14.778560  \n",
       "3998   50.216677  \n",
       "2531  120.555025  \n",
       "3473  126.352196  \n",
       "2590   64.551928  "
      ]
     },
     "execution_count": 24,
     "metadata": {},
     "output_type": "execute_result"
    }
   ],
   "source": [
    "from sklearn.linear_model import LinearRegression\n",
    "m2 = LinearRegression().fit(X_train, y_train)\n",
    "pred = m2.predict(X_test)\n",
    "df1 = X_test.copy()\n",
    "df1['price'] = y_test\n",
    "df1['prediction'] = pred\n",
    "df1.head()"
   ]
  },
  {
   "cell_type": "code",
   "execution_count": 25,
   "metadata": {},
   "outputs": [
    {
     "data": {
      "text/plain": [
       "926.5140196243069"
      ]
     },
     "execution_count": 25,
     "metadata": {},
     "output_type": "execute_result"
    }
   ],
   "source": [
    "from sklearn.metrics import mean_squared_error,r2_score\n",
    "acc = mean_squared_error(pred,y_test)\n",
    "acc"
   ]
  },
  {
   "cell_type": "code",
   "execution_count": 26,
   "metadata": {},
   "outputs": [
    {
     "data": {
      "text/html": [
       "<div>\n",
       "<style scoped>\n",
       "    .dataframe tbody tr th:only-of-type {\n",
       "        vertical-align: middle;\n",
       "    }\n",
       "\n",
       "    .dataframe tbody tr th {\n",
       "        vertical-align: top;\n",
       "    }\n",
       "\n",
       "    .dataframe thead th {\n",
       "        text-align: right;\n",
       "    }\n",
       "</style>\n",
       "<table border=\"1\" class=\"dataframe\">\n",
       "  <thead>\n",
       "    <tr style=\"text-align: right;\">\n",
       "      <th></th>\n",
       "      <th>bhk</th>\n",
       "      <th>sqft</th>\n",
       "      <th>bath</th>\n",
       "      <th>balcony</th>\n",
       "      <th>location_encoded</th>\n",
       "      <th>society_encoded</th>\n",
       "      <th>price</th>\n",
       "      <th>prediction</th>\n",
       "      <th>error</th>\n",
       "      <th>sqerror</th>\n",
       "    </tr>\n",
       "  </thead>\n",
       "  <tbody>\n",
       "    <tr>\n",
       "      <th>2952</th>\n",
       "      <td>1</td>\n",
       "      <td>670.0</td>\n",
       "      <td>1.0</td>\n",
       "      <td>1.0</td>\n",
       "      <td>61.484830</td>\n",
       "      <td>76.357867</td>\n",
       "      <td>35.00</td>\n",
       "      <td>14.778560</td>\n",
       "      <td>20.221440</td>\n",
       "      <td>408.906648</td>\n",
       "    </tr>\n",
       "    <tr>\n",
       "      <th>3998</th>\n",
       "      <td>2</td>\n",
       "      <td>1253.0</td>\n",
       "      <td>2.0</td>\n",
       "      <td>1.0</td>\n",
       "      <td>83.509424</td>\n",
       "      <td>65.724454</td>\n",
       "      <td>52.66</td>\n",
       "      <td>50.216677</td>\n",
       "      <td>2.443323</td>\n",
       "      <td>5.969829</td>\n",
       "    </tr>\n",
       "    <tr>\n",
       "      <th>2531</th>\n",
       "      <td>3</td>\n",
       "      <td>1520.0</td>\n",
       "      <td>3.0</td>\n",
       "      <td>2.0</td>\n",
       "      <td>109.658833</td>\n",
       "      <td>90.529034</td>\n",
       "      <td>125.00</td>\n",
       "      <td>120.555025</td>\n",
       "      <td>4.444975</td>\n",
       "      <td>19.757803</td>\n",
       "    </tr>\n",
       "    <tr>\n",
       "      <th>3473</th>\n",
       "      <td>3</td>\n",
       "      <td>1937.0</td>\n",
       "      <td>3.0</td>\n",
       "      <td>2.0</td>\n",
       "      <td>111.255191</td>\n",
       "      <td>95.221474</td>\n",
       "      <td>140.00</td>\n",
       "      <td>126.352196</td>\n",
       "      <td>13.647804</td>\n",
       "      <td>186.262542</td>\n",
       "    </tr>\n",
       "    <tr>\n",
       "      <th>2590</th>\n",
       "      <td>2</td>\n",
       "      <td>1400.0</td>\n",
       "      <td>1.0</td>\n",
       "      <td>1.0</td>\n",
       "      <td>91.239983</td>\n",
       "      <td>88.327161</td>\n",
       "      <td>80.00</td>\n",
       "      <td>64.551928</td>\n",
       "      <td>15.448072</td>\n",
       "      <td>238.642934</td>\n",
       "    </tr>\n",
       "  </tbody>\n",
       "</table>\n",
       "</div>"
      ],
      "text/plain": [
       "      bhk    sqft  bath  balcony  location_encoded  society_encoded   price  \\\n",
       "2952    1   670.0   1.0      1.0         61.484830        76.357867   35.00   \n",
       "3998    2  1253.0   2.0      1.0         83.509424        65.724454   52.66   \n",
       "2531    3  1520.0   3.0      2.0        109.658833        90.529034  125.00   \n",
       "3473    3  1937.0   3.0      2.0        111.255191        95.221474  140.00   \n",
       "2590    2  1400.0   1.0      1.0         91.239983        88.327161   80.00   \n",
       "\n",
       "      prediction      error     sqerror  \n",
       "2952   14.778560  20.221440  408.906648  \n",
       "3998   50.216677   2.443323    5.969829  \n",
       "2531  120.555025   4.444975   19.757803  \n",
       "3473  126.352196  13.647804  186.262542  \n",
       "2590   64.551928  15.448072  238.642934  "
      ]
     },
     "execution_count": 26,
     "metadata": {},
     "output_type": "execute_result"
    }
   ],
   "source": [
    "df1['error'] = df1['price'] - df1['prediction']\n",
    "df1['sqerror'] = df1['error']** 2\n",
    "df1.head()"
   ]
  },
  {
   "cell_type": "code",
   "execution_count": 27,
   "metadata": {},
   "outputs": [
    {
     "data": {
      "text/html": [
       "<div>\n",
       "<style scoped>\n",
       "    .dataframe tbody tr th:only-of-type {\n",
       "        vertical-align: middle;\n",
       "    }\n",
       "\n",
       "    .dataframe tbody tr th {\n",
       "        vertical-align: top;\n",
       "    }\n",
       "\n",
       "    .dataframe thead th {\n",
       "        text-align: right;\n",
       "    }\n",
       "</style>\n",
       "<table border=\"1\" class=\"dataframe\">\n",
       "  <thead>\n",
       "    <tr style=\"text-align: right;\">\n",
       "      <th></th>\n",
       "      <th>bhk</th>\n",
       "      <th>sqft</th>\n",
       "      <th>bath</th>\n",
       "      <th>balcony</th>\n",
       "      <th>location_encoded</th>\n",
       "      <th>society_encoded</th>\n",
       "      <th>price</th>\n",
       "      <th>prediction</th>\n",
       "      <th>error</th>\n",
       "      <th>sqerror</th>\n",
       "    </tr>\n",
       "  </thead>\n",
       "  <tbody>\n",
       "    <tr>\n",
       "      <th>2952</th>\n",
       "      <td>1</td>\n",
       "      <td>670.0</td>\n",
       "      <td>1.0</td>\n",
       "      <td>1.0</td>\n",
       "      <td>61.484830</td>\n",
       "      <td>76.357867</td>\n",
       "      <td>35.00</td>\n",
       "      <td>14.778560</td>\n",
       "      <td>20.221440</td>\n",
       "      <td>408.906648</td>\n",
       "    </tr>\n",
       "    <tr>\n",
       "      <th>3998</th>\n",
       "      <td>2</td>\n",
       "      <td>1253.0</td>\n",
       "      <td>2.0</td>\n",
       "      <td>1.0</td>\n",
       "      <td>83.509424</td>\n",
       "      <td>65.724454</td>\n",
       "      <td>52.66</td>\n",
       "      <td>50.216677</td>\n",
       "      <td>2.443323</td>\n",
       "      <td>5.969829</td>\n",
       "    </tr>\n",
       "    <tr>\n",
       "      <th>2531</th>\n",
       "      <td>3</td>\n",
       "      <td>1520.0</td>\n",
       "      <td>3.0</td>\n",
       "      <td>2.0</td>\n",
       "      <td>109.658833</td>\n",
       "      <td>90.529034</td>\n",
       "      <td>125.00</td>\n",
       "      <td>120.555025</td>\n",
       "      <td>4.444975</td>\n",
       "      <td>19.757803</td>\n",
       "    </tr>\n",
       "    <tr>\n",
       "      <th>3473</th>\n",
       "      <td>3</td>\n",
       "      <td>1937.0</td>\n",
       "      <td>3.0</td>\n",
       "      <td>2.0</td>\n",
       "      <td>111.255191</td>\n",
       "      <td>95.221474</td>\n",
       "      <td>140.00</td>\n",
       "      <td>126.352196</td>\n",
       "      <td>13.647804</td>\n",
       "      <td>186.262542</td>\n",
       "    </tr>\n",
       "    <tr>\n",
       "      <th>2590</th>\n",
       "      <td>2</td>\n",
       "      <td>1400.0</td>\n",
       "      <td>1.0</td>\n",
       "      <td>1.0</td>\n",
       "      <td>91.239983</td>\n",
       "      <td>88.327161</td>\n",
       "      <td>80.00</td>\n",
       "      <td>64.551928</td>\n",
       "      <td>15.448072</td>\n",
       "      <td>238.642934</td>\n",
       "    </tr>\n",
       "    <tr>\n",
       "      <th>...</th>\n",
       "      <td>...</td>\n",
       "      <td>...</td>\n",
       "      <td>...</td>\n",
       "      <td>...</td>\n",
       "      <td>...</td>\n",
       "      <td>...</td>\n",
       "      <td>...</td>\n",
       "      <td>...</td>\n",
       "      <td>...</td>\n",
       "      <td>...</td>\n",
       "    </tr>\n",
       "    <tr>\n",
       "      <th>570</th>\n",
       "      <td>3</td>\n",
       "      <td>1270.0</td>\n",
       "      <td>2.0</td>\n",
       "      <td>1.0</td>\n",
       "      <td>74.507001</td>\n",
       "      <td>79.792521</td>\n",
       "      <td>73.00</td>\n",
       "      <td>85.443267</td>\n",
       "      <td>-12.443267</td>\n",
       "      <td>154.834892</td>\n",
       "    </tr>\n",
       "    <tr>\n",
       "      <th>3807</th>\n",
       "      <td>2</td>\n",
       "      <td>1113.0</td>\n",
       "      <td>2.0</td>\n",
       "      <td>1.0</td>\n",
       "      <td>77.687596</td>\n",
       "      <td>81.421440</td>\n",
       "      <td>55.00</td>\n",
       "      <td>64.545124</td>\n",
       "      <td>-9.545124</td>\n",
       "      <td>91.109397</td>\n",
       "    </tr>\n",
       "    <tr>\n",
       "      <th>758</th>\n",
       "      <td>3</td>\n",
       "      <td>1949.0</td>\n",
       "      <td>3.0</td>\n",
       "      <td>2.0</td>\n",
       "      <td>97.930789</td>\n",
       "      <td>91.609869</td>\n",
       "      <td>129.00</td>\n",
       "      <td>116.741252</td>\n",
       "      <td>12.258748</td>\n",
       "      <td>150.276896</td>\n",
       "    </tr>\n",
       "    <tr>\n",
       "      <th>1613</th>\n",
       "      <td>3</td>\n",
       "      <td>1651.0</td>\n",
       "      <td>3.0</td>\n",
       "      <td>1.0</td>\n",
       "      <td>40.684246</td>\n",
       "      <td>79.734773</td>\n",
       "      <td>49.53</td>\n",
       "      <td>84.180528</td>\n",
       "      <td>-34.650528</td>\n",
       "      <td>1200.659086</td>\n",
       "    </tr>\n",
       "    <tr>\n",
       "      <th>3008</th>\n",
       "      <td>2</td>\n",
       "      <td>1698.0</td>\n",
       "      <td>2.0</td>\n",
       "      <td>1.0</td>\n",
       "      <td>61.484830</td>\n",
       "      <td>86.384195</td>\n",
       "      <td>105.00</td>\n",
       "      <td>63.001030</td>\n",
       "      <td>41.998970</td>\n",
       "      <td>1763.913481</td>\n",
       "    </tr>\n",
       "  </tbody>\n",
       "</table>\n",
       "<p>909 rows × 10 columns</p>\n",
       "</div>"
      ],
      "text/plain": [
       "      bhk    sqft  bath  balcony  location_encoded  society_encoded   price  \\\n",
       "2952    1   670.0   1.0      1.0         61.484830        76.357867   35.00   \n",
       "3998    2  1253.0   2.0      1.0         83.509424        65.724454   52.66   \n",
       "2531    3  1520.0   3.0      2.0        109.658833        90.529034  125.00   \n",
       "3473    3  1937.0   3.0      2.0        111.255191        95.221474  140.00   \n",
       "2590    2  1400.0   1.0      1.0         91.239983        88.327161   80.00   \n",
       "...   ...     ...   ...      ...               ...              ...     ...   \n",
       "570     3  1270.0   2.0      1.0         74.507001        79.792521   73.00   \n",
       "3807    2  1113.0   2.0      1.0         77.687596        81.421440   55.00   \n",
       "758     3  1949.0   3.0      2.0         97.930789        91.609869  129.00   \n",
       "1613    3  1651.0   3.0      1.0         40.684246        79.734773   49.53   \n",
       "3008    2  1698.0   2.0      1.0         61.484830        86.384195  105.00   \n",
       "\n",
       "      prediction      error      sqerror  \n",
       "2952   14.778560  20.221440   408.906648  \n",
       "3998   50.216677   2.443323     5.969829  \n",
       "2531  120.555025   4.444975    19.757803  \n",
       "3473  126.352196  13.647804   186.262542  \n",
       "2590   64.551928  15.448072   238.642934  \n",
       "...          ...        ...          ...  \n",
       "570    85.443267 -12.443267   154.834892  \n",
       "3807   64.545124  -9.545124    91.109397  \n",
       "758   116.741252  12.258748   150.276896  \n",
       "1613   84.180528 -34.650528  1200.659086  \n",
       "3008   63.001030  41.998970  1763.913481  \n",
       "\n",
       "[909 rows x 10 columns]"
      ]
     },
     "execution_count": 27,
     "metadata": {},
     "output_type": "execute_result"
    }
   ],
   "source": [
    "df1"
   ]
  },
  {
   "cell_type": "code",
   "execution_count": 28,
   "metadata": {},
   "outputs": [
    {
     "name": "stdout",
     "output_type": "stream",
     "text": [
      "mean_sqerror: 926.5140196243069\n",
      "Root Mean Squared Error (RMSE): 30.438692804131833\n"
     ]
    }
   ],
   "source": [
    "# Step 1: Calculate the mean of the squared errors\n",
    "mean_sqerror = df1['sqerror'].mean()\n",
    "print(\"mean_sqerror:\", mean_sqerror)\n",
    "# Step 2: Take the square root of the mean squared error to obtain RMSE\n",
    "rmse = mean_sqerror ** 0.5\n",
    "\n",
    "print(\"Root Mean Squared Error (RMSE):\", rmse)"
   ]
  },
  {
   "cell_type": "markdown",
   "metadata": {
    "jp-MarkdownHeadingCollapsed": true
   },
   "source": [
    "### Standardize features by removing the mean and scaling to unit variance\n",
    "\n"
   ]
  },
  {
   "cell_type": "code",
   "execution_count": null,
   "metadata": {},
   "outputs": [],
   "source": [
    "home1"
   ]
  },
  {
   "cell_type": "code",
   "execution_count": null,
   "metadata": {},
   "outputs": [],
   "source": [
    "## Dividing our dataset to Independent and Dependent Variables\n",
    "\n",
    "X = home1.drop('price',axis = 1).values ## Independent Variables\n",
    "y = home1.price.values ## Dependent Variables\n",
    "X"
   ]
  },
  {
   "cell_type": "code",
   "execution_count": null,
   "metadata": {},
   "outputs": [],
   "source": [
    "## adding a new axis\n",
    "y = y[:,np.newaxis]\n",
    "y"
   ]
  },
  {
   "cell_type": "code",
   "execution_count": null,
   "metadata": {},
   "outputs": [],
   "source": [
    "## preprocessing the data values to StandardScaler\n",
    "sc = preprocessing.StandardScaler()\n",
    "X1 = sc.fit_transform(X)\n"
   ]
  },
  {
   "cell_type": "code",
   "execution_count": null,
   "metadata": {},
   "outputs": [],
   "source": [
    "## Standardize a dataset along any axis\n",
    "\n",
    "## Center to the mean and component wise scale to unit variance.\n",
    "\n",
    "Std_x1 = preprocessing.scale(X)"
   ]
  },
  {
   "attachments": {},
   "cell_type": "markdown",
   "metadata": {
    "jp-MarkdownHeadingCollapsed": true
   },
   "source": [
    "## Machine Learning Model\n"
   ]
  },
  {
   "cell_type": "code",
   "execution_count": null,
   "metadata": {},
   "outputs": [],
   "source": [
    "from sklearn.model_selection import cross_val_score,cross_val_predict\n",
    "from sklearn.linear_model import LinearRegression\n",
    "lr = LinearRegression()\n",
    "from sklearn.model_selection import cross_validate as CV"
   ]
  },
  {
   "cell_type": "code",
   "execution_count": null,
   "metadata": {},
   "outputs": [],
   "source": [
    "## using Cross Validation of 5 and scoring of Negative mean sqaured error\n",
    "\n",
    "cross1 = cross_val_score(lr,Std_x1,y,cv=5,scoring='neg_mean_squared_error')\n",
    "print(cross1.mean())"
   ]
  },
  {
   "cell_type": "code",
   "execution_count": null,
   "metadata": {},
   "outputs": [],
   "source": [
    "# from the model selection module import train_test_split for the ML training and testing.\n",
    "from sklearn.model_selection import train_test_split\n",
    "X_train, X_test, y_train, y_test = train_test_split(X1,y,test_size=0.3,random_state=10)"
   ]
  },
  {
   "cell_type": "code",
   "execution_count": null,
   "metadata": {},
   "outputs": [],
   "source": [
    "from sklearn.linear_model import LinearRegression\n",
    "from sklearn.metrics import mean_squared_error,r2_score\n",
    "lr.fit(X_train,y_train)\n",
    "y_pred = lr.predict(X_test)\n",
    "acc = mean_squared_error(y_pred,y_test)\n",
    "rscore = r2_score(y_pred,y_test)\n",
    "rmse = acc ** 0.5\n",
    "print(\"acc:\", acc, \"rmse:\", rmse, \"rscore:\", rscore)\n"
   ]
  },
  {
   "cell_type": "code",
   "execution_count": null,
   "metadata": {},
   "outputs": [],
   "source": []
  }
 ],
 "metadata": {
  "kaggle": {
   "accelerator": "none",
   "dataSources": [
    {
     "datasetId": 20710,
     "sourceId": 26737,
     "sourceType": "datasetVersion"
    }
   ],
   "dockerImageVersionId": 29985,
   "isGpuEnabled": false,
   "isInternetEnabled": false,
   "language": "python",
   "sourceType": "notebook"
  },
  "kernelspec": {
   "display_name": "Python 3 (ipykernel)",
   "language": "python",
   "name": "python3"
  },
  "language_info": {
   "codemirror_mode": {
    "name": "ipython",
    "version": 3
   },
   "file_extension": ".py",
   "mimetype": "text/x-python",
   "name": "python",
   "nbconvert_exporter": "python",
   "pygments_lexer": "ipython3",
   "version": "3.12.0"
  }
 },
 "nbformat": 4,
 "nbformat_minor": 4
}
