{
 "cells": [
  {
   "cell_type": "code",
   "execution_count": 1,
   "id": "f46ae536-db59-4277-9439-61b9c564ba69",
   "metadata": {},
   "outputs": [
    {
     "name": "stdout",
     "output_type": "stream",
     "text": [
      "Listening for messages on topic 'trades'...\n",
      "Received message: {'stock_name': 'LLY', 'price': 773.24, 'quantity': 8, 'name': 'Iris/Chloe', 'type': 'trade', 'order_id': 'b3f21c11-35bf-4e58-9b15-10053b8ec349/b3f21c11-35bf-4e58-9b15-10053b8ec349', 'valid_till': '2024-11-21 23:55:34', 'timestamp': '2024-11-17 23:55:34'}\n",
      "Received message: {'stock_name': 'META', 'price': 620.88, 'quantity': 64, 'name': 'Chloe/Alice', 'type': 'trade', 'order_id': 'ee14a5ec-4890-457f-91ff-1ef1c2ab4db6/ee14a5ec-4890-457f-91ff-1ef1c2ab4db6', 'valid_till': '2024-11-21 23:55:44', 'timestamp': '2024-11-17 23:55:44'}\n",
      "Received message: {'stock_name': 'WMT', 'price': 1196.82, 'quantity': 15, 'name': 'Quinn/Riley', 'type': 'trade', 'order_id': '81ab3ea2-ad8c-469a-a7a8-34f2dcbf075f/81ab3ea2-ad8c-469a-a7a8-34f2dcbf075f', 'valid_till': '2024-11-18 23:55:54', 'timestamp': '2024-11-17 23:55:54'}\n",
      "Received message: {'stock_name': 'MA', 'price': 1029.86, 'quantity': 18, 'name': 'Zachary/Isabella', 'type': 'trade', 'order_id': '85a1449a-d502-4703-8ba3-3ea46ac3c1c1/85a1449a-d502-4703-8ba3-3ea46ac3c1c1', 'valid_till': '2024-11-18 23:56:04', 'timestamp': '2024-11-17 23:56:04'}\n",
      "Received message: {'stock_name': 'BRK-B', 'price': 1391.72, 'quantity': 31, 'name': 'James/Vincent', 'type': 'trade', 'order_id': '785bb3c1-277e-458e-8e0d-28cc7e24d8fe/785bb3c1-277e-458e-8e0d-28cc7e24d8fe', 'valid_till': '2024-11-20 23:56:14', 'timestamp': '2024-11-17 23:56:14'}\n",
      "Received message: {'stock_name': 'PYPL', 'price': 976.39, 'quantity': 29, 'name': 'Wendy/Larry', 'type': 'trade', 'order_id': '3f55a742-6494-4cf6-b768-d152d5527791/3f55a742-6494-4cf6-b768-d152d5527791', 'valid_till': '2024-11-19 23:56:44', 'timestamp': '2024-11-17 23:56:44'}\n",
      "Received message: {'stock_name': 'KO', 'price': 1139.62, 'quantity': 6, 'name': 'Daniel/Harry', 'type': 'trade', 'order_id': 'f64153d0-b29a-4602-ad38-24c8d5014fc4/f64153d0-b29a-4602-ad38-24c8d5014fc4', 'valid_till': '2024-11-22 23:57:14', 'timestamp': '2024-11-17 23:57:14'}\n",
      "Received message: {'stock_name': 'UNH', 'price': 416.94, 'quantity': 67, 'name': 'Frank/Wendy', 'type': 'trade', 'order_id': '2b636427-4ea6-4a8b-9a27-4af95aa202e4/2b636427-4ea6-4a8b-9a27-4af95aa202e4', 'valid_till': '2024-11-20 23:57:44', 'timestamp': '2024-11-17 23:57:44'}\n",
      "Received message: {'stock_name': 'BAC', 'price': 904.67, 'quantity': 32, 'name': 'Chloe/Wendy', 'type': 'trade', 'order_id': 'cd637605-8736-4614-8cf6-e536bfae8c38/cd637605-8736-4614-8cf6-e536bfae8c38', 'valid_till': '2024-11-19 23:57:54', 'timestamp': '2024-11-17 23:57:54'}\n",
      "Received message: {'stock_name': 'MA', 'price': 309.05, 'quantity': 24, 'name': 'Larry/Abigail', 'type': 'trade', 'order_id': '73219114-90e8-4230-87ac-a2889c549d1c/73219114-90e8-4230-87ac-a2889c549d1c', 'valid_till': '2024-11-20 23:58:14', 'timestamp': '2024-11-17 23:58:14'}\n",
      "Received message: {'stock_name': 'XOM', 'price': 1095.91, 'quantity': 89, 'name': 'Riley/Leo', 'type': 'trade', 'order_id': 'f2e07db1-fd7a-4f0c-b8aa-3f0096db43f8/f2e07db1-fd7a-4f0c-b8aa-3f0096db43f8', 'valid_till': '2024-11-20 23:58:24', 'timestamp': '2024-11-17 23:58:24'}\n",
      "Received message: {'stock_name': 'LLY', 'price': 1455.78, 'quantity': 92, 'name': 'Uma/Benjamin', 'type': 'trade', 'order_id': 'fea591ee-5588-470e-9dd7-69af778aa5a7/fea591ee-5588-470e-9dd7-69af778aa5a7', 'valid_till': '2024-11-18 23:58:44', 'timestamp': '2024-11-17 23:58:44'}\n",
      "Received message: {'stock_name': 'MA', 'price': 1047.54, 'quantity': 12, 'name': 'Yasmin/Ursula', 'type': 'trade', 'order_id': '7d4d5ac6-134d-412d-988b-c28a108bf1ff/7d4d5ac6-134d-412d-988b-c28a108bf1ff', 'valid_till': '2024-11-22 23:59:14', 'timestamp': '2024-11-17 23:59:14'}\n",
      "Received message: {'stock_name': 'MSFT', 'price': 284.86, 'quantity': 41, 'name': 'Chloe/Wendy', 'type': 'trade', 'order_id': 'e542072b-f912-4640-a601-166727c78754/e542072b-f912-4640-a601-166727c78754', 'valid_till': '2024-11-21 23:59:24', 'timestamp': '2024-11-17 23:59:24'}\n",
      "Received message: {'stock_name': 'GOOGL', 'price': 379.37, 'quantity': 41, 'name': 'David/Victor', 'type': 'trade', 'order_id': 'f590c542-9729-4e3a-98e3-6f7bbeaa34a8/f590c542-9729-4e3a-98e3-6f7bbeaa34a8', 'valid_till': '2024-11-21 23:59:34', 'timestamp': '2024-11-17 23:59:34'}\n",
      "Received message: {'stock_name': 'TSLA', 'price': 260.17, 'quantity': 4, 'name': 'Harry/Chloe', 'type': 'trade', 'order_id': '336e1671-ec09-48a4-b15a-7bafc59a7b28/336e1671-ec09-48a4-b15a-7bafc59a7b28', 'valid_till': '2024-11-19 00:00:34', 'timestamp': '2024-11-18 00:00:34'}\n",
      "Received message: {'stock_name': 'WMT', 'price': 806.93, 'quantity': 12, 'name': 'Quinn/Olivia', 'type': 'trade', 'order_id': 'a1796929-e82f-4993-b896-56a73969351c/a1796929-e82f-4993-b896-56a73969351c', 'valid_till': '2024-11-21 00:00:44', 'timestamp': '2024-11-18 00:00:44'}\n",
      "Received message: {'stock_name': 'TSLA', 'price': 1256.39, 'quantity': 67, 'name': 'Zachary/Yasmin', 'type': 'trade', 'order_id': 'c2f6dc00-d2d7-4fc3-87d1-08b14dd58ae2/c2f6dc00-d2d7-4fc3-87d1-08b14dd58ae2', 'valid_till': '2024-11-23 00:00:54', 'timestamp': '2024-11-18 00:00:54'}\n",
      "Received message: {'stock_name': 'LLY', 'price': 715.31, 'quantity': 3, 'name': 'Xavier/Leo', 'type': 'trade', 'order_id': '89c3a1f9-e52f-4b10-99c1-5a8c01120253/89c3a1f9-e52f-4b10-99c1-5a8c01120253', 'valid_till': '2024-11-19 00:01:04', 'timestamp': '2024-11-18 00:01:04'}\n",
      "Received message: {'stock_name': 'V', 'price': 1032.13, 'quantity': 5, 'name': 'Kelly/Olivia', 'type': 'trade', 'order_id': '150c0eb0-b576-4811-9dbb-68c545146a23/150c0eb0-b576-4811-9dbb-68c545146a23', 'valid_till': '2024-11-19 00:01:14', 'timestamp': '2024-11-18 00:01:14'}\n",
      "Received message: {'stock_name': 'TSLA', 'price': 844.17, 'quantity': 65, 'name': 'Larry/Sarah', 'type': 'trade', 'order_id': 'fbb7294c-680a-48fd-b255-052cfd4def36/fbb7294c-680a-48fd-b255-052cfd4def36', 'valid_till': '2024-11-21 00:01:24', 'timestamp': '2024-11-18 00:01:24'}\n",
      "Received message: {'stock_name': 'DIS', 'price': 891.68, 'quantity': 82, 'name': 'Nathan/Sarah', 'type': 'trade', 'order_id': '45e5ab96-0fa9-44d8-9a28-ef0153c04348/45e5ab96-0fa9-44d8-9a28-ef0153c04348', 'valid_till': '2024-11-22 00:01:44', 'timestamp': '2024-11-18 00:01:44'}\n",
      "Received message: {'stock_name': 'PG', 'price': 1260.05, 'quantity': 15, 'name': 'Harry/Larry', 'type': 'trade', 'order_id': 'f90ec187-febf-4941-a572-ba37b2f3a8dc/f90ec187-febf-4941-a572-ba37b2f3a8dc', 'valid_till': '2024-11-21 00:01:55', 'timestamp': '2024-11-18 00:01:55'}\n",
      "Received message: {'stock_name': 'JPM', 'price': 539.49, 'quantity': 89, 'name': 'Riley/Willow', 'type': 'trade', 'order_id': '40e042a2-991b-4263-94f4-ea121edd0526/40e042a2-991b-4263-94f4-ea121edd0526', 'valid_till': '2024-11-21 00:02:15', 'timestamp': '2024-11-18 00:02:15'}\n",
      "Received message: {'stock_name': 'MA', 'price': 497.51, 'quantity': 2, 'name': 'Riley/Emily', 'type': 'trade', 'order_id': '632a68ac-250f-4589-986b-8734d1c37d90/632a68ac-250f-4589-986b-8734d1c37d90', 'valid_till': '2024-11-23 00:02:25', 'timestamp': '2024-11-18 00:02:25'}\n",
      "Received message: {'stock_name': 'V', 'price': 182.94, 'quantity': 23, 'name': 'Gabriella/Patrick', 'type': 'trade', 'order_id': '755e164c-eee6-4929-be72-917cda41df6e/755e164c-eee6-4929-be72-917cda41df6e', 'valid_till': '2024-11-21 00:02:35', 'timestamp': '2024-11-18 00:02:35'}\n",
      "Received message: {'stock_name': 'CVX', 'price': 1406.8, 'quantity': 79, 'name': 'Vincent/Thomas', 'type': 'trade', 'order_id': '90dc9cb1-5f9a-4fc0-9d90-33056caa794e/90dc9cb1-5f9a-4fc0-9d90-33056caa794e', 'valid_till': '2024-11-23 00:02:45', 'timestamp': '2024-11-18 00:02:45'}\n",
      "Received message: {'stock_name': 'TSLA', 'price': 981.96, 'quantity': 78, 'name': 'Xavier/Sarah', 'type': 'trade', 'order_id': '4e273656-d4a3-4b87-ac00-aec842d6bf80/4e273656-d4a3-4b87-ac00-aec842d6bf80', 'valid_till': '2024-11-20 00:02:55', 'timestamp': '2024-11-18 00:02:55'}\n",
      "Received message: {'stock_name': 'V', 'price': 331.15, 'quantity': 96, 'name': 'Bob/Zachary', 'type': 'trade', 'order_id': 'ee5a979a-bda6-4dbd-b34d-5500a6a952f0/ee5a979a-bda6-4dbd-b34d-5500a6a952f0', 'valid_till': '2024-11-21 00:03:05', 'timestamp': '2024-11-18 00:03:05'}\n",
      "Received message: {'stock_name': 'MA', 'price': 1081.86, 'quantity': 94, 'name': 'Quinn/Katherine', 'type': 'trade', 'order_id': '6c3436ca-fd08-4bd5-80e7-42366a837fee/6c3436ca-fd08-4bd5-80e7-42366a837fee', 'valid_till': '2024-11-21 00:03:15', 'timestamp': '2024-11-18 00:03:15'}\n",
      "Received message: {'stock_name': 'CRM', 'price': 1071.12, 'quantity': 20, 'name': 'Willow/Katherine', 'type': 'trade', 'order_id': '00604bc0-8fb4-4712-b75b-c336ab72ccd0/00604bc0-8fb4-4712-b75b-c336ab72ccd0', 'valid_till': '2024-11-20 00:03:45', 'timestamp': '2024-11-18 00:03:45'}\n",
      "Received message: {'stock_name': 'CRM', 'price': 948.27, 'quantity': 68, 'name': 'Yasmin/Rachel', 'type': 'trade', 'order_id': 'c50185d9-1a98-4b92-af6b-b2e008b56692/c50185d9-1a98-4b92-af6b-b2e008b56692', 'valid_till': '2024-11-19 00:03:55', 'timestamp': '2024-11-18 00:03:55'}\n",
      "Received message: {'stock_name': 'BAC', 'price': 876.1, 'quantity': 69, 'name': 'Sarah/Harry', 'type': 'trade', 'order_id': 'bd30745f-afad-43df-83ac-8b540d1d7c0e/bd30745f-afad-43df-83ac-8b540d1d7c0e', 'valid_till': '2024-11-22 00:04:05', 'timestamp': '2024-11-18 00:04:05'}\n",
      "Received message: {'stock_name': 'TSLA', 'price': 252.09, 'quantity': 37, 'name': 'Riley/Willow', 'type': 'trade', 'order_id': 'cfa37b61-a62c-40eb-93fb-177978994394/cfa37b61-a62c-40eb-93fb-177978994394', 'valid_till': '2024-11-22 00:04:15', 'timestamp': '2024-11-18 00:04:15'}\n",
      "Received message: {'stock_name': 'TSLA', 'price': 1120.44, 'quantity': 39, 'name': 'Frank/David', 'type': 'trade', 'order_id': '65009704-d572-4e51-ad01-3a2d67238eca/65009704-d572-4e51-ad01-3a2d67238eca', 'valid_till': '2024-11-19 00:04:35', 'timestamp': '2024-11-18 00:04:35'}\n",
      "Received message: {'stock_name': 'JPM', 'price': 158.7, 'quantity': 99, 'name': 'Thomas/Eleanor', 'type': 'trade', 'order_id': 'ed07edd2-aed8-4a56-9fc8-4b55ab72acdd/ed07edd2-aed8-4a56-9fc8-4b55ab72acdd', 'valid_till': '2024-11-21 00:04:45', 'timestamp': '2024-11-18 00:04:45'}\n",
      "Consumer stopped.\n"
     ]
    }
   ],
   "source": [
    "from kafka import KafkaConsumer\n",
    "import json\n",
    "\n",
    "# Kafka configuration\n",
    "TOPIC_NAME = 'trades'\n",
    "BOOTSTRAP_SERVERS = ['localhost:9092']\n",
    "\n",
    "def consume_messages():\n",
    "    # Create a Kafka consumer\n",
    "    consumer = KafkaConsumer(\n",
    "        TOPIC_NAME,\n",
    "        bootstrap_servers=BOOTSTRAP_SERVERS,\n",
    "        auto_offset_reset='earliest',  \n",
    "        enable_auto_commit=True,       \n",
    "        group_id='trade_consumer_group',  \n",
    "        value_deserializer=lambda x: json.loads(x.decode('utf-8')) \n",
    "    )\n",
    "\n",
    "    print(f\"Listening for messages on topic '{TOPIC_NAME}'...\")\n",
    "\n",
    "    # Read messages\n",
    "    try:\n",
    "        for message in consumer:\n",
    "            print(f\"Received message: {message.value}\")\n",
    "    except KeyboardInterrupt:\n",
    "        print(\"Consumer stopped.\")\n",
    "    finally:\n",
    "        consumer.close()\n",
    "\n",
    "if __name__ == \"__main__\":\n",
    "    consume_messages()\n"
   ]
  },
  {
   "cell_type": "code",
   "execution_count": null,
   "id": "ccb3b4cb-a160-4aff-ae2a-fff7ad7b50a7",
   "metadata": {},
   "outputs": [],
   "source": []
  }
 ],
 "metadata": {
  "kernelspec": {
   "display_name": "Python 3 (ipykernel)",
   "language": "python",
   "name": "python3"
  },
  "language_info": {
   "codemirror_mode": {
    "name": "ipython",
    "version": 3
   },
   "file_extension": ".py",
   "mimetype": "text/x-python",
   "name": "python",
   "nbconvert_exporter": "python",
   "pygments_lexer": "ipython3",
   "version": "3.12.4"
  }
 },
 "nbformat": 4,
 "nbformat_minor": 5
}
